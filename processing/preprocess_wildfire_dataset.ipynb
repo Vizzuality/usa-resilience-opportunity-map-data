{
 "cells": [
  {
   "cell_type": "markdown",
   "metadata": {},
   "source": [
    "# Preprocess [global wildfire dataset](https://www.nature.com/articles/s41597-019-0312-2)\n",
    "- Data source: data is available in [this PANGAEA repository](https://doi.pangaea.de/10.1594/PANGAEA.895835)"
   ]
  },
  {
   "cell_type": "code",
   "execution_count": 36,
   "metadata": {},
   "outputs": [],
   "source": [
    "import numpy as np\n",
    "import pandas as pd\n",
    "import geopandas as gpd\n",
    "import xarray as xr\n",
    "from tqdm import tqdm\n",
    "from shapely.ops import cascaded_union\n",
    "import requests\n",
    "import zipfile\n",
    "import tarfile\n",
    "import io\n",
    "import os\n",
    "import matplotlib.pyplot as plt"
   ]
  },
  {
   "cell_type": "markdown",
   "metadata": {},
   "source": [
    "## Download data"
   ]
  },
  {
   "cell_type": "code",
   "execution_count": 27,
   "metadata": {},
   "outputs": [
    {
     "name": "stdout",
     "output_type": "stream",
     "text": [
      "http://hs.pangaea.de/Maps/MCD64A1_burnt-areas/MODIS_BA_GLOBAL_1_1_2017.zip\n",
      "Downloading zip file\n",
      "Extract zip file\n",
      "Untar tar file\n",
      "Remove tar file\n",
      "http://hs.pangaea.de/Maps/MCD64A1_burnt-areas/MODIS_BA_GLOBAL_1_2_2017.zip\n",
      "Downloading zip file\n",
      "Extract zip file\n",
      "Untar tar file\n",
      "Remove tar file\n",
      "http://hs.pangaea.de/Maps/MCD64A1_burnt-areas/MODIS_BA_GLOBAL_1_3_2017.zip\n",
      "Downloading zip file\n",
      "Extract zip file\n",
      "Untar tar file\n",
      "Remove tar file\n",
      "http://hs.pangaea.de/Maps/MCD64A1_burnt-areas/MODIS_BA_GLOBAL_1_4_2017.zip\n",
      "Downloading zip file\n",
      "Extract zip file\n",
      "Untar tar file\n",
      "Remove tar file\n",
      "http://hs.pangaea.de/Maps/MCD64A1_burnt-areas/MODIS_BA_GLOBAL_1_5_2017.zip\n",
      "Downloading zip file\n",
      "Extract zip file\n",
      "Untar tar file\n",
      "Remove tar file\n",
      "http://hs.pangaea.de/Maps/MCD64A1_burnt-areas/MODIS_BA_GLOBAL_1_6_2017.zip\n",
      "Downloading zip file\n",
      "Extract zip file\n",
      "Untar tar file\n",
      "Remove tar file\n",
      "http://hs.pangaea.de/Maps/MCD64A1_burnt-areas/MODIS_BA_GLOBAL_1_7_2017.zip\n",
      "Downloading zip file\n",
      "Extract zip file\n",
      "Untar tar file\n",
      "Remove tar file\n",
      "http://hs.pangaea.de/Maps/MCD64A1_burnt-areas/MODIS_BA_GLOBAL_1_8_2017.zip\n",
      "Downloading zip file\n",
      "Extract zip file\n",
      "Untar tar file\n",
      "Remove tar file\n",
      "http://hs.pangaea.de/Maps/MCD64A1_burnt-areas/MODIS_BA_GLOBAL_1_9_2017.zip\n",
      "Downloading zip file\n",
      "Extract zip file\n",
      "Untar tar file\n",
      "Remove tar file\n",
      "http://hs.pangaea.de/Maps/MCD64A1_burnt-areas/MODIS_BA_GLOBAL_1_10_2017.zip\n",
      "Downloading zip file\n",
      "Extract zip file\n",
      "Untar tar file\n",
      "Remove tar file\n",
      "http://hs.pangaea.de/Maps/MCD64A1_burnt-areas/MODIS_BA_GLOBAL_1_11_2017.zip\n",
      "Downloading zip file\n",
      "Extract zip file\n",
      "Untar tar file\n",
      "Remove tar file\n",
      "http://hs.pangaea.de/Maps/MCD64A1_burnt-areas/MODIS_BA_GLOBAL_1_12_2017.zip\n",
      "Downloading zip file\n",
      "Extract zip file\n",
      "Untar tar file\n",
      "Remove tar file\n"
     ]
    }
   ],
   "source": [
    "base_url = 'http://hs.pangaea.de/Maps/MCD64A1_burnt-areas/'\n",
    "base_filename = 'MODIS_BA_GLOBAL_1_'\n",
    "local_path = '../data/MODIS_GWIS_Active_FireEvents'\n",
    "\n",
    "years = np.arange(2017, 2018, 1).astype(np.str)\n",
    "months = np.arange(1, 13, 1).astype(np.str)\n",
    "\n",
    "if not os.path.isdir(local_path):\n",
    "    os.mkdir(local_path)\n",
    "\n",
    "for year in years:\n",
    "    for month in months:\n",
    "        filename = base_filename + month + '_' + year\n",
    "        url = base_url + filename + '.zip'\n",
    "        print(url)\n",
    "        print('Downloading zip file')\n",
    "        r = requests.get(url)\n",
    "        z = zipfile.ZipFile(io.BytesIO(r.content))\n",
    "        print('Extract zip file')\n",
    "        z.extractall(path=local_path) # extract to folder\n",
    "        print('Untar tar file')\n",
    "        tar = tarfile.open(f\"{local_path}/{filename+'.tar'}\")\n",
    "        tar.extractall(path=f'{local_path}/{filename}/')\n",
    "        tar.close()\n",
    "        print('Remove tar file')\n",
    "        os.remove(f\"{local_path}/{filename}.tar\")"
   ]
  },
  {
   "cell_type": "markdown",
   "metadata": {},
   "source": [
    "**Concatenate data**"
   ]
  },
  {
   "cell_type": "code",
   "execution_count": 76,
   "metadata": {},
   "outputs": [
    {
     "name": "stdout",
     "output_type": "stream",
     "text": [
      "2001:\n",
      "2002:\n",
      "2003:\n",
      "2004:\n",
      "2005:\n",
      "2006:\n",
      "2007:\n",
      "2008:\n",
      "2009:\n",
      "2010:\n",
      "2011:\n",
      "2012:\n",
      "2013:\n",
      "2014:\n",
      "2015:\n",
      "2016:\n",
      "2017:\n"
     ]
    }
   ],
   "source": [
    "base_filename = 'MODIS_BA_GLOBAL_1_'\n",
    "local_path = '../data/MODIS_GWIS_Active_FireEvents'\n",
    "\n",
    "years = np.arange(2001, 2018, 1).astype(np.str)\n",
    "months = np.arange(1, 13, 1).astype(np.str)\n",
    "\n",
    "n = 0\n",
    "for year in years:\n",
    "    print(f'{year}:')\n",
    "    for month in months:\n",
    "        filename = base_filename + month + '_' + year\n",
    "        gdf = gpd.read_file(f'{local_path}/{filename}/{filename}.shp', bbox = [-180, 18, -54, 72])\n",
    "        gdf = gdf[gdf['Type'] == 'FinalArea']\n",
    "        if n == 0:\n",
    "            gdf_all = gdf\n",
    "        else:\n",
    "            gdf_all = pd.concat([gdf_all, gdf])\n",
    "        n += 1"
   ]
  },
  {
   "cell_type": "code",
   "execution_count": 59,
   "metadata": {},
   "outputs": [
    {
     "data": {
      "text/plain": [
       "<matplotlib.axes._subplots.AxesSubplot at 0x192c6f160>"
      ]
     },
     "execution_count": 59,
     "metadata": {},
     "output_type": "execute_result"
    },
    {
     "data": {
      "image/png": "[encoded data removed]",
      "text/plain": [
       "<Figure size 432x288 with 1 Axes>"
      ]
     },
     "metadata": {
      "needs_background": "light"
     },
     "output_type": "display_data"
    }
   ],
   "source": [
    "gdf_all.plot()"
   ]
  },
  {
   "cell_type": "markdown",
   "metadata": {},
   "source": [
    "**Save wildfire GeoDataFrame**"
   ]
  },
  {
   "cell_type": "code",
   "execution_count": 79,
   "metadata": {},
   "outputs": [],
   "source": [
    "gdf_all.iloc[256:].to_file('../data/MODIS_GWIS_Active_FireEvents/wildfires/wildfires.shp')"
   ]
  },
  {
   "cell_type": "code",
   "execution_count": null,
   "metadata": {},
   "outputs": [],
   "source": []
  }
 ],
 "metadata": {
  "kernelspec": {
   "display_name": "Python 3",
   "language": "python",
   "name": "python3"
  },
  "language_info": {
   "codemirror_mode": {
    "name": "ipython",
    "version": 3
   },
   "file_extension": ".py",
   "mimetype": "text/x-python",
   "name": "python",
   "nbconvert_exporter": "python",
   "pygments_lexer": "ipython3",
   "version": "3.7.4"
  }
 },
 "nbformat": 4,
 "nbformat_minor": 4
}
