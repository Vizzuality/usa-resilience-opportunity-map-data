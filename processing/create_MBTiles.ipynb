{
 "cells": [
  {
   "cell_type": "markdown",
   "metadata": {},
   "source": [
    "# Create MBTiles for USA Resilience Opportunity Map platform\n",
    "\n",
    "Check this [notebook](https://github.com/Vizzuality/sci_team_data_bank/blob/master/Encyclopedia/map_tile_processing/MBTiles_from_Carto_data.ipynb) for further information on the creation of `MBTiles`.\n",
    "\n",
    "## Table of Contents\n",
    "### [Python libraries](#libraries)\n",
    "### [Utils](#utils)\n",
    "- **[create_mbtiles](#create_mbtiles)**\n",
    "\n",
    "### [Create `MBTiles`](#create_mbtiles_2)\n",
    "### [Show `MBTiles` in our localhost](#show_mbtiles)"
   ]
  },
  {
   "cell_type": "markdown",
   "metadata": {},
   "source": [
    "<a id='libraries'></a>\n",
    "### Python libraries"
   ]
  },
  {
   "cell_type": "code",
   "execution_count": 1,
   "metadata": {},
   "outputs": [],
   "source": [
    "import pandas as pd \n",
    "import geopandas as gpd\n",
    "import getpass\n",
    "import requests\n",
    "import shapely.wkb \n",
    "import subprocess"
   ]
  },
  {
   "cell_type": "markdown",
   "metadata": {},
   "source": [
    "<a id='utils'></a>\n",
    "### Utils"
   ]
  },
  {
   "cell_type": "markdown",
   "metadata": {},
   "source": [
    "<a id='create_mbtiles'></a>\n",
    "**create_mbtiles**"
   ]
  },
  {
   "cell_type": "code",
   "execution_count": 2,
   "metadata": {},
   "outputs": [],
   "source": [
    "def create_mbtiles(source_path, dest_path, layer_name, opts=\"-zg --drop-densest-as-needed --extend-zooms-if-still-dropping --force --read-parallel\"):\n",
    "    \"\"\"\n",
    "    Use tippecanoe to create a MBTILE at dest_path from source_path.\n",
    "    layer_name is used for the name of the layer in the MBTILE.\n",
    "    Regex file path (/*.geojson) is supported for source_path.\n",
    "    \"\"\"\n",
    "    cmd = f\"tippecanoe -o {dest_path} -l {layer_name} {opts} {source_path}\"\n",
    "    print(f\"Processing: {cmd}\")\n",
    "    r = subprocess.call(cmd, shell=True)\n",
    "    if r == 0:\n",
    "        print(\"Task created\")\n",
    "    else:\n",
    "        print(\"Task failed\")\n",
    "    print(\"Finished processing\")"
   ]
  },
  {
   "cell_type": "markdown",
   "metadata": {},
   "source": [
    "<a id='read_data'></a>\n",
    "### Read data from different sources \n",
    "**[County data](https://catalog.data.gov/dataset/tiger-line-shapefile-2016-nation-u-s-current-county-and-equivalent-national-shapefile)**"
   ]
  },
  {
   "cell_type": "code",
   "execution_count": 8,
   "metadata": {},
   "outputs": [
    {
     "data": {
      "text/html": [
       "<div>\n",
       "<style scoped>\n",
       "    .dataframe tbody tr th:only-of-type {\n",
       "        vertical-align: middle;\n",
       "    }\n",
       "\n",
       "    .dataframe tbody tr th {\n",
       "        vertical-align: top;\n",
       "    }\n",
       "\n",
       "    .dataframe thead th {\n",
       "        text-align: right;\n",
       "    }\n",
       "</style>\n",
       "<table border=\"1\" class=\"dataframe\">\n",
       "  <thead>\n",
       "    <tr style=\"text-align: right;\">\n",
       "      <th></th>\n",
       "      <th>County FIPS code</th>\n",
       "      <th>Name</th>\n",
       "      <th>geometry</th>\n",
       "    </tr>\n",
       "  </thead>\n",
       "  <tbody>\n",
       "    <tr>\n",
       "      <th>0</th>\n",
       "      <td>31039</td>\n",
       "      <td>Cuming</td>\n",
       "      <td>POLYGON ((-97.01952 42.00410, -97.01952 42.004...</td>\n",
       "    </tr>\n",
       "    <tr>\n",
       "      <th>1</th>\n",
       "      <td>53069</td>\n",
       "      <td>Wahkiakum</td>\n",
       "      <td>POLYGON ((-123.43639 46.23820, -123.44759 46.2...</td>\n",
       "    </tr>\n",
       "    <tr>\n",
       "      <th>2</th>\n",
       "      <td>35011</td>\n",
       "      <td>De Baca</td>\n",
       "      <td>POLYGON ((-104.56739 33.99757, -104.56772 33.9...</td>\n",
       "    </tr>\n",
       "    <tr>\n",
       "      <th>3</th>\n",
       "      <td>31109</td>\n",
       "      <td>Lancaster</td>\n",
       "      <td>POLYGON ((-96.91060 40.95841, -96.91060 40.958...</td>\n",
       "    </tr>\n",
       "    <tr>\n",
       "      <th>4</th>\n",
       "      <td>31129</td>\n",
       "      <td>Nuckolls</td>\n",
       "      <td>POLYGON ((-98.27367 40.08940, -98.27367 40.089...</td>\n",
       "    </tr>\n",
       "  </tbody>\n",
       "</table>\n",
       "</div>"
      ],
      "text/plain": [
       "   County FIPS code       Name  \\\n",
       "0             31039     Cuming   \n",
       "1             53069  Wahkiakum   \n",
       "2             35011    De Baca   \n",
       "3             31109  Lancaster   \n",
       "4             31129   Nuckolls   \n",
       "\n",
       "                                            geometry  \n",
       "0  POLYGON ((-97.01952 42.00410, -97.01952 42.004...  \n",
       "1  POLYGON ((-123.43639 46.23820, -123.44759 46.2...  \n",
       "2  POLYGON ((-104.56739 33.99757, -104.56772 33.9...  \n",
       "3  POLYGON ((-96.91060 40.95841, -96.91060 40.958...  \n",
       "4  POLYGON ((-98.27367 40.08940, -98.27367 40.089...  "
      ]
     },
     "execution_count": 8,
     "metadata": {},
     "output_type": "execute_result"
    }
   ],
   "source": [
    "county = gpd.read_file('https://www2.census.gov/geo/tiger/TIGER2016/COUNTY/tl_2016_us_county.zip')\n",
    "county = county.astype({'GEOID': 'int32'})\n",
    "county = county[['GEOID', 'NAME', 'geometry']]\n",
    "county.rename(columns={'GEOID': 'County FIPS code', 'NAME': 'Name'}, inplace= True)\n",
    "county.head()"
   ]
  },
  {
   "cell_type": "code",
   "execution_count": 6,
   "metadata": {},
   "outputs": [],
   "source": [
    "df = pd.read_csv('http://www.globalpolicy.science/s/county_damages_by_sector.csv')"
   ]
  },
  {
   "cell_type": "code",
   "execution_count": 9,
   "metadata": {},
   "outputs": [
    {
     "data": {
      "text/html": [
       "<div>\n",
       "<style scoped>\n",
       "    .dataframe tbody tr th:only-of-type {\n",
       "        vertical-align: middle;\n",
       "    }\n",
       "\n",
       "    .dataframe tbody tr th {\n",
       "        vertical-align: top;\n",
       "    }\n",
       "\n",
       "    .dataframe thead th {\n",
       "        text-align: right;\n",
       "    }\n",
       "</style>\n",
       "<table border=\"1\" class=\"dataframe\">\n",
       "  <thead>\n",
       "    <tr style=\"text-align: right;\">\n",
       "      <th></th>\n",
       "      <th>State Code</th>\n",
       "      <th>County Name</th>\n",
       "      <th>County FIPS code</th>\n",
       "      <th>County Population (in 2012)</th>\n",
       "      <th>County Income (in 2012)</th>\n",
       "      <th>Agricultural Damage (%) (4 major crops)</th>\n",
       "      <th>Mortality (deaths per 100k)</th>\n",
       "      <th>Energy Expenditures (%)</th>\n",
       "      <th>Labor Low-risk (%)</th>\n",
       "      <th>Labor High-risk (%)</th>\n",
       "      <th>Coastal damage (log10(% county income))</th>\n",
       "      <th>Property Crime (%)</th>\n",
       "      <th>Violent Crime (%)</th>\n",
       "      <th>Total damages (% county income)</th>\n",
       "      <th>Name</th>\n",
       "      <th>geometry</th>\n",
       "    </tr>\n",
       "  </thead>\n",
       "  <tbody>\n",
       "    <tr>\n",
       "      <th>0</th>\n",
       "      <td>AL</td>\n",
       "      <td>Autauga County</td>\n",
       "      <td>1001</td>\n",
       "      <td>55192</td>\n",
       "      <td>35106</td>\n",
       "      <td>-16.003536</td>\n",
       "      <td>27.024584</td>\n",
       "      <td>11.998686</td>\n",
       "      <td>-0.515579</td>\n",
       "      <td>-2.120601</td>\n",
       "      <td>-2.051729</td>\n",
       "      <td>0.052951</td>\n",
       "      <td>2.369668</td>\n",
       "      <td>9.4390</td>\n",
       "      <td>Autauga</td>\n",
       "      <td>POLYGON ((-86.90310 32.54063, -86.90313 32.541...</td>\n",
       "    </tr>\n",
       "    <tr>\n",
       "      <th>1</th>\n",
       "      <td>AL</td>\n",
       "      <td>Baldwin County</td>\n",
       "      <td>1003</td>\n",
       "      <td>190560</td>\n",
       "      <td>38228</td>\n",
       "      <td>-12.974306</td>\n",
       "      <td>31.895386</td>\n",
       "      <td>12.066700</td>\n",
       "      <td>-0.378806</td>\n",
       "      <td>-1.937923</td>\n",
       "      <td>-0.698060</td>\n",
       "      <td>0.147257</td>\n",
       "      <td>2.495164</td>\n",
       "      <td>9.4078</td>\n",
       "      <td>Baldwin</td>\n",
       "      <td>POLYGON ((-87.99068 30.55549, -87.99051 30.560...</td>\n",
       "    </tr>\n",
       "    <tr>\n",
       "      <th>2</th>\n",
       "      <td>AL</td>\n",
       "      <td>Barbour County</td>\n",
       "      <td>1005</td>\n",
       "      <td>27169</td>\n",
       "      <td>28431</td>\n",
       "      <td>-6.562765</td>\n",
       "      <td>25.534552</td>\n",
       "      <td>11.380579</td>\n",
       "      <td>-0.394443</td>\n",
       "      <td>-1.976559</td>\n",
       "      <td>-1.961138</td>\n",
       "      <td>0.151926</td>\n",
       "      <td>2.528313</td>\n",
       "      <td>10.8720</td>\n",
       "      <td>Barbour</td>\n",
       "      <td>POLYGON ((-85.42982 32.04598, -85.42985 32.046...</td>\n",
       "    </tr>\n",
       "    <tr>\n",
       "      <th>3</th>\n",
       "      <td>AL</td>\n",
       "      <td>Bibb County</td>\n",
       "      <td>1007</td>\n",
       "      <td>22634</td>\n",
       "      <td>27109</td>\n",
       "      <td>NaN</td>\n",
       "      <td>22.530268</td>\n",
       "      <td>12.070424</td>\n",
       "      <td>-0.428851</td>\n",
       "      <td>-1.934934</td>\n",
       "      <td>-1.940463</td>\n",
       "      <td>0.187312</td>\n",
       "      <td>2.525677</td>\n",
       "      <td>10.7770</td>\n",
       "      <td>Bibb</td>\n",
       "      <td>POLYGON ((-87.31226 33.08622, -87.31218 33.087...</td>\n",
       "    </tr>\n",
       "    <tr>\n",
       "      <th>4</th>\n",
       "      <td>AL</td>\n",
       "      <td>Blount County</td>\n",
       "      <td>1009</td>\n",
       "      <td>57748</td>\n",
       "      <td>29513</td>\n",
       "      <td>-18.488190</td>\n",
       "      <td>20.003851</td>\n",
       "      <td>11.908128</td>\n",
       "      <td>-0.374522</td>\n",
       "      <td>-1.854808</td>\n",
       "      <td>-1.976278</td>\n",
       "      <td>0.283651</td>\n",
       "      <td>2.659189</td>\n",
       "      <td>8.9849</td>\n",
       "      <td>Blount</td>\n",
       "      <td>POLYGON ((-86.74919 33.99760, -86.74902 33.997...</td>\n",
       "    </tr>\n",
       "  </tbody>\n",
       "</table>\n",
       "</div>"
      ],
      "text/plain": [
       "  State Code     County Name  County FIPS code  County Population (in 2012)  \\\n",
       "0         AL  Autauga County              1001                        55192   \n",
       "1         AL  Baldwin County              1003                       190560   \n",
       "2         AL  Barbour County              1005                        27169   \n",
       "3         AL     Bibb County              1007                        22634   \n",
       "4         AL   Blount County              1009                        57748   \n",
       "\n",
       "   County Income (in 2012)  Agricultural Damage (%) (4 major crops)  \\\n",
       "0                    35106                               -16.003536   \n",
       "1                    38228                               -12.974306   \n",
       "2                    28431                                -6.562765   \n",
       "3                    27109                                      NaN   \n",
       "4                    29513                               -18.488190   \n",
       "\n",
       "   Mortality (deaths per 100k)  Energy Expenditures (%)  Labor Low-risk (%)  \\\n",
       "0                    27.024584                11.998686           -0.515579   \n",
       "1                    31.895386                12.066700           -0.378806   \n",
       "2                    25.534552                11.380579           -0.394443   \n",
       "3                    22.530268                12.070424           -0.428851   \n",
       "4                    20.003851                11.908128           -0.374522   \n",
       "\n",
       "   Labor High-risk (%)  Coastal damage (log10(% county income))  \\\n",
       "0            -2.120601                                -2.051729   \n",
       "1            -1.937923                                -0.698060   \n",
       "2            -1.976559                                -1.961138   \n",
       "3            -1.934934                                -1.940463   \n",
       "4            -1.854808                                -1.976278   \n",
       "\n",
       "   Property Crime (%)  Violent Crime (%)  Total damages (% county income)  \\\n",
       "0            0.052951           2.369668                           9.4390   \n",
       "1            0.147257           2.495164                           9.4078   \n",
       "2            0.151926           2.528313                          10.8720   \n",
       "3            0.187312           2.525677                          10.7770   \n",
       "4            0.283651           2.659189                           8.9849   \n",
       "\n",
       "      Name                                           geometry  \n",
       "0  Autauga  POLYGON ((-86.90310 32.54063, -86.90313 32.541...  \n",
       "1  Baldwin  POLYGON ((-87.99068 30.55549, -87.99051 30.560...  \n",
       "2  Barbour  POLYGON ((-85.42982 32.04598, -85.42985 32.046...  \n",
       "3     Bibb  POLYGON ((-87.31226 33.08622, -87.31218 33.087...  \n",
       "4   Blount  POLYGON ((-86.74919 33.99760, -86.74902 33.997...  "
      ]
     },
     "execution_count": 9,
     "metadata": {},
     "output_type": "execute_result"
    }
   ],
   "source": [
    "df = pd.merge(left=df, right=county, how='left', left_on='County FIPS code', right_on='County FIPS code')\n",
    "df = gpd.GeoDataFrame(df)\n",
    "df.head()"
   ]
  },
  {
   "cell_type": "code",
   "execution_count": 12,
   "metadata": {},
   "outputs": [],
   "source": [
    "df.to_file(\"../data/county_damages_by_sector.json\", driver=\"GeoJSON\")"
   ]
  },
  {
   "cell_type": "markdown",
   "metadata": {},
   "source": [
    "<a id='create_mbtiles_2'></a>\n",
    "### Create `MBTiles`"
   ]
  },
  {
   "cell_type": "code",
   "execution_count": 3,
   "metadata": {},
   "outputs": [
    {
     "name": "stdout",
     "output_type": "stream",
     "text": [
      "Processing: tippecanoe -o ../data/indicators.mbtiles -l Indicators -zg --drop-densest-as-needed --extend-zooms-if-still-dropping --force --read-parallel ../data/indicators.json\n",
      "Task created\n",
      "Finished processing\n"
     ]
    }
   ],
   "source": [
    "layer_name = \"Indicators\"\n",
    "source_path = \"../data/indicators.json\"\n",
    "dest_path = \"../data/indicators.mbtiles\"\n",
    "create_mbtiles(source_path, dest_path, layer_name, opts=\"-zg --drop-densest-as-needed --extend-zooms-if-still-dropping --force --read-parallel\")"
   ]
  },
  {
   "cell_type": "markdown",
   "metadata": {},
   "source": [
    "<a id='show_mbtiles'></a>\n",
    "### Show `MBTiles` in our localhost"
   ]
  },
  {
   "cell_type": "code",
   "execution_count": 4,
   "metadata": {},
   "outputs": [
    {
     "name": "stdout",
     "output_type": "stream",
     "text": [
      "Listening on http://localhost:9000\n",
      "^C\n"
     ]
    }
   ],
   "source": [
    "!mbview --port 9000 ../data/indicators.mbtiles"
   ]
  },
  {
   "cell_type": "code",
   "execution_count": null,
   "metadata": {},
   "outputs": [],
   "source": []
  }
 ],
 "metadata": {
  "kernelspec": {
   "display_name": "Python 3",
   "language": "python",
   "name": "python3"
  },
  "language_info": {
   "codemirror_mode": {
    "name": "ipython",
    "version": 3
   },
   "file_extension": ".py",
   "mimetype": "text/x-python",
   "name": "python",
   "nbconvert_exporter": "python",
   "pygments_lexer": "ipython3",
   "version": "3.8.2"
  }
 },
 "nbformat": 4,
 "nbformat_minor": 4
}
